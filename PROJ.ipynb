{
 "cells": [
  {
   "cell_type": "code",
   "execution_count": 55,
   "metadata": {},
   "outputs": [
    {
     "data": {
      "text/plain": [
       "(50, 16)"
      ]
     },
     "execution_count": 55,
     "metadata": {},
     "output_type": "execute_result"
    }
   ],
   "source": [
    "import numpy as np\n",
    "import pandas as pd\n",
    "import seaborn as sns\n",
    "import matplotlib.pyplot as plt\n",
    "sns.set(color_codes=True)\n",
    "%matplotlib inline\n",
    "\n",
    "data_frame = pd.read_csv(\"E:/proj_folder/proj_datasheet.csv\")\n",
    "\n",
    "data_frame.shape"
   ]
  },
  {
   "cell_type": "markdown",
   "metadata": {},
   "source": [
    "## CORRELATION"
   ]
  },
  {
   "cell_type": "code",
   "execution_count": 56,
   "metadata": {},
   "outputs": [],
   "source": [
    "def plot_corr(data_frame, size=11):\n",
    "    \"\"\"\n",
    "    Function plots a graphical correlation matrix for each pair of columns in the dataframe.\n",
    "\n",
    "    Input:\n",
    "        data_frame: pandas DataFrame\n",
    "        size: vertical and horizontal size of the plot\n",
    "\n",
    "    Displays:\n",
    "        matrix of correlation between columns.  Blue-cyan-yellow-red-darkred => less to more correlated\n",
    "                                                0 ------------------>  1\n",
    "                                                Expect a darkred line running from top left to bottom right\n",
    "    \"\"\"\n",
    "\n",
    "    corr = data_frame.corr()    # data frame correlation function\n",
    "    fig, ax = plt.subplots(figsize=(size, size))\n",
    "    ax.matshow(corr)   # color code the rectangles by correlation value\n",
    "    plt.xticks(range(len(corr.columns)), corr.columns)  # draw x tick marks\n",
    "    plt.yticks(range(len(corr.columns)), corr.columns)  # draw y tick marks\n"
   ]
  },
  {
   "cell_type": "code",
   "execution_count": 57,
   "metadata": {},
   "outputs": [
    {
     "data": {
      "text/html": [
       "<div>\n",
       "<style scoped>\n",
       "    .dataframe tbody tr th:only-of-type {\n",
       "        vertical-align: middle;\n",
       "    }\n",
       "\n",
       "    .dataframe tbody tr th {\n",
       "        vertical-align: top;\n",
       "    }\n",
       "\n",
       "    .dataframe thead th {\n",
       "        text-align: right;\n",
       "    }\n",
       "</style>\n",
       "<table border=\"1\" class=\"dataframe\">\n",
       "  <thead>\n",
       "    <tr style=\"text-align: right;\">\n",
       "      <th></th>\n",
       "      <th>Age</th>\n",
       "      <th>BMI</th>\n",
       "      <th>Blood_Pressure</th>\n",
       "      <th>Blood_Sugar</th>\n",
       "      <th>Insulin</th>\n",
       "      <th>Glucose</th>\n",
       "      <th>Diabetes_Outcome</th>\n",
       "      <th>Blood_urea_nitrogen_level</th>\n",
       "      <th>Uric_acid</th>\n",
       "      <th>Creatinine_level</th>\n",
       "      <th>Kidney_test_outcome</th>\n",
       "    </tr>\n",
       "  </thead>\n",
       "  <tbody>\n",
       "    <tr>\n",
       "      <th>Age</th>\n",
       "      <td>1.000000</td>\n",
       "      <td>0.005466</td>\n",
       "      <td>0.363865</td>\n",
       "      <td>0.063184</td>\n",
       "      <td>-0.098943</td>\n",
       "      <td>0.343225</td>\n",
       "      <td>0.199776</td>\n",
       "      <td>0.222279</td>\n",
       "      <td>-0.075619</td>\n",
       "      <td>-0.023118</td>\n",
       "      <td>0.132242</td>\n",
       "    </tr>\n",
       "    <tr>\n",
       "      <th>BMI</th>\n",
       "      <td>0.005466</td>\n",
       "      <td>1.000000</td>\n",
       "      <td>0.295682</td>\n",
       "      <td>-0.170338</td>\n",
       "      <td>0.221143</td>\n",
       "      <td>0.206208</td>\n",
       "      <td>-0.033682</td>\n",
       "      <td>0.204468</td>\n",
       "      <td>0.054969</td>\n",
       "      <td>0.265964</td>\n",
       "      <td>0.090342</td>\n",
       "    </tr>\n",
       "    <tr>\n",
       "      <th>Blood_Pressure</th>\n",
       "      <td>0.363865</td>\n",
       "      <td>0.295682</td>\n",
       "      <td>1.000000</td>\n",
       "      <td>-0.029250</td>\n",
       "      <td>0.085568</td>\n",
       "      <td>0.121625</td>\n",
       "      <td>-0.127110</td>\n",
       "      <td>0.403617</td>\n",
       "      <td>0.021752</td>\n",
       "      <td>0.104475</td>\n",
       "      <td>0.073826</td>\n",
       "    </tr>\n",
       "    <tr>\n",
       "      <th>Blood_Sugar</th>\n",
       "      <td>0.063184</td>\n",
       "      <td>-0.170338</td>\n",
       "      <td>-0.029250</td>\n",
       "      <td>1.000000</td>\n",
       "      <td>0.012649</td>\n",
       "      <td>0.139285</td>\n",
       "      <td>0.080412</td>\n",
       "      <td>0.181586</td>\n",
       "      <td>0.248508</td>\n",
       "      <td>0.237710</td>\n",
       "      <td>0.190894</td>\n",
       "    </tr>\n",
       "    <tr>\n",
       "      <th>Insulin</th>\n",
       "      <td>-0.098943</td>\n",
       "      <td>0.221143</td>\n",
       "      <td>0.085568</td>\n",
       "      <td>0.012649</td>\n",
       "      <td>1.000000</td>\n",
       "      <td>0.257081</td>\n",
       "      <td>-0.234672</td>\n",
       "      <td>0.052369</td>\n",
       "      <td>-0.098805</td>\n",
       "      <td>0.001285</td>\n",
       "      <td>0.104956</td>\n",
       "    </tr>\n",
       "    <tr>\n",
       "      <th>Glucose</th>\n",
       "      <td>0.343225</td>\n",
       "      <td>0.206208</td>\n",
       "      <td>0.121625</td>\n",
       "      <td>0.139285</td>\n",
       "      <td>0.257081</td>\n",
       "      <td>1.000000</td>\n",
       "      <td>0.477320</td>\n",
       "      <td>0.099939</td>\n",
       "      <td>-0.026066</td>\n",
       "      <td>0.151775</td>\n",
       "      <td>0.104187</td>\n",
       "    </tr>\n",
       "    <tr>\n",
       "      <th>Diabetes_Outcome</th>\n",
       "      <td>0.199776</td>\n",
       "      <td>-0.033682</td>\n",
       "      <td>-0.127110</td>\n",
       "      <td>0.080412</td>\n",
       "      <td>-0.234672</td>\n",
       "      <td>0.477320</td>\n",
       "      <td>1.000000</td>\n",
       "      <td>-0.053565</td>\n",
       "      <td>-0.074559</td>\n",
       "      <td>0.015724</td>\n",
       "      <td>0.065530</td>\n",
       "    </tr>\n",
       "    <tr>\n",
       "      <th>Blood_urea_nitrogen_level</th>\n",
       "      <td>0.222279</td>\n",
       "      <td>0.204468</td>\n",
       "      <td>0.403617</td>\n",
       "      <td>0.181586</td>\n",
       "      <td>0.052369</td>\n",
       "      <td>0.099939</td>\n",
       "      <td>-0.053565</td>\n",
       "      <td>1.000000</td>\n",
       "      <td>0.480021</td>\n",
       "      <td>0.610877</td>\n",
       "      <td>0.689735</td>\n",
       "    </tr>\n",
       "    <tr>\n",
       "      <th>Uric_acid</th>\n",
       "      <td>-0.075619</td>\n",
       "      <td>0.054969</td>\n",
       "      <td>0.021752</td>\n",
       "      <td>0.248508</td>\n",
       "      <td>-0.098805</td>\n",
       "      <td>-0.026066</td>\n",
       "      <td>-0.074559</td>\n",
       "      <td>0.480021</td>\n",
       "      <td>1.000000</td>\n",
       "      <td>0.725949</td>\n",
       "      <td>0.698722</td>\n",
       "    </tr>\n",
       "    <tr>\n",
       "      <th>Creatinine_level</th>\n",
       "      <td>-0.023118</td>\n",
       "      <td>0.265964</td>\n",
       "      <td>0.104475</td>\n",
       "      <td>0.237710</td>\n",
       "      <td>0.001285</td>\n",
       "      <td>0.151775</td>\n",
       "      <td>0.015724</td>\n",
       "      <td>0.610877</td>\n",
       "      <td>0.725949</td>\n",
       "      <td>1.000000</td>\n",
       "      <td>0.708877</td>\n",
       "    </tr>\n",
       "    <tr>\n",
       "      <th>Kidney_test_outcome</th>\n",
       "      <td>0.132242</td>\n",
       "      <td>0.090342</td>\n",
       "      <td>0.073826</td>\n",
       "      <td>0.190894</td>\n",
       "      <td>0.104956</td>\n",
       "      <td>0.104187</td>\n",
       "      <td>0.065530</td>\n",
       "      <td>0.689735</td>\n",
       "      <td>0.698722</td>\n",
       "      <td>0.708877</td>\n",
       "      <td>1.000000</td>\n",
       "    </tr>\n",
       "  </tbody>\n",
       "</table>\n",
       "</div>"
      ],
      "text/plain": [
       "                                Age       BMI  Blood_Pressure  Blood_Sugar  \\\n",
       "Age                        1.000000  0.005466        0.363865     0.063184   \n",
       "BMI                        0.005466  1.000000        0.295682    -0.170338   \n",
       "Blood_Pressure             0.363865  0.295682        1.000000    -0.029250   \n",
       "Blood_Sugar                0.063184 -0.170338       -0.029250     1.000000   \n",
       "Insulin                   -0.098943  0.221143        0.085568     0.012649   \n",
       "Glucose                    0.343225  0.206208        0.121625     0.139285   \n",
       "Diabetes_Outcome           0.199776 -0.033682       -0.127110     0.080412   \n",
       "Blood_urea_nitrogen_level  0.222279  0.204468        0.403617     0.181586   \n",
       "Uric_acid                 -0.075619  0.054969        0.021752     0.248508   \n",
       "Creatinine_level          -0.023118  0.265964        0.104475     0.237710   \n",
       "Kidney_test_outcome        0.132242  0.090342        0.073826     0.190894   \n",
       "\n",
       "                            Insulin   Glucose  Diabetes_Outcome  \\\n",
       "Age                       -0.098943  0.343225          0.199776   \n",
       "BMI                        0.221143  0.206208         -0.033682   \n",
       "Blood_Pressure             0.085568  0.121625         -0.127110   \n",
       "Blood_Sugar                0.012649  0.139285          0.080412   \n",
       "Insulin                    1.000000  0.257081         -0.234672   \n",
       "Glucose                    0.257081  1.000000          0.477320   \n",
       "Diabetes_Outcome          -0.234672  0.477320          1.000000   \n",
       "Blood_urea_nitrogen_level  0.052369  0.099939         -0.053565   \n",
       "Uric_acid                 -0.098805 -0.026066         -0.074559   \n",
       "Creatinine_level           0.001285  0.151775          0.015724   \n",
       "Kidney_test_outcome        0.104956  0.104187          0.065530   \n",
       "\n",
       "                           Blood_urea_nitrogen_level  Uric_acid  \\\n",
       "Age                                         0.222279  -0.075619   \n",
       "BMI                                         0.204468   0.054969   \n",
       "Blood_Pressure                              0.403617   0.021752   \n",
       "Blood_Sugar                                 0.181586   0.248508   \n",
       "Insulin                                     0.052369  -0.098805   \n",
       "Glucose                                     0.099939  -0.026066   \n",
       "Diabetes_Outcome                           -0.053565  -0.074559   \n",
       "Blood_urea_nitrogen_level                   1.000000   0.480021   \n",
       "Uric_acid                                   0.480021   1.000000   \n",
       "Creatinine_level                            0.610877   0.725949   \n",
       "Kidney_test_outcome                         0.689735   0.698722   \n",
       "\n",
       "                           Creatinine_level  Kidney_test_outcome  \n",
       "Age                               -0.023118             0.132242  \n",
       "BMI                                0.265964             0.090342  \n",
       "Blood_Pressure                     0.104475             0.073826  \n",
       "Blood_Sugar                        0.237710             0.190894  \n",
       "Insulin                            0.001285             0.104956  \n",
       "Glucose                            0.151775             0.104187  \n",
       "Diabetes_Outcome                   0.015724             0.065530  \n",
       "Blood_urea_nitrogen_level          0.610877             0.689735  \n",
       "Uric_acid                          0.725949             0.698722  \n",
       "Creatinine_level                   1.000000             0.708877  \n",
       "Kidney_test_outcome                0.708877             1.000000  "
      ]
     },
     "execution_count": 57,
     "metadata": {},
     "output_type": "execute_result"
    }
   ],
   "source": [
    "data_frame.corr()"
   ]
  },
  {
   "cell_type": "code",
   "execution_count": 58,
   "metadata": {},
   "outputs": [
    {
     "data": {
      "image/png": "[encoded data removed]",
      "text/plain": [
       "<Figure size 792x792 with 1 Axes>"
      ]
     },
     "metadata": {
      "needs_background": "light"
     },
     "output_type": "display_data"
    }
   ],
   "source": [
    "#plotting correlation\n",
    "plot_corr(data_frame)"
   ]
  },
  {
   "cell_type": "code",
   "execution_count": 59,
   "metadata": {},
   "outputs": [
    {
     "name": "stdout",
     "output_type": "stream",
     "text": [
      "Number of True cases:  20 (40.00%)\n",
      "Number of False cases: 30 (60.00%)\n"
     ]
    }
   ],
   "source": [
    "#true cases\n",
    "num_obs = len(data_frame)\n",
    "num_true = len(data_frame.loc[data_frame['Diabetes_Outcome'] == 1])\n",
    "num_false = len(data_frame.loc[data_frame['Diabetes_Outcome'] == 0])\n",
    "print(\"Number of True cases:  {0} ({1:2.2f}%)\".format(num_true, ((1.00 * num_true)/(1.0 * num_obs)) * 100))\n",
    "print(\"Number of False cases: {0} ({1:2.2f}%)\".format(num_false, (( 1.0 * num_false)/(1.0 * num_obs)) * 100))\n"
   ]
  },
  {
   "cell_type": "markdown",
   "metadata": {},
   "source": [
    "## HISTOGRAMS"
   ]
  },
  {
   "cell_type": "code",
   "execution_count": 60,
   "metadata": {},
   "outputs": [
    {
     "data": {
      "text/html": [
       "<div>\n",
       "<style scoped>\n",
       "    .dataframe tbody tr th:only-of-type {\n",
       "        vertical-align: middle;\n",
       "    }\n",
       "\n",
       "    .dataframe tbody tr th {\n",
       "        vertical-align: top;\n",
       "    }\n",
       "\n",
       "    .dataframe thead th {\n",
       "        text-align: right;\n",
       "    }\n",
       "</style>\n",
       "<table border=\"1\" class=\"dataframe\">\n",
       "  <thead>\n",
       "    <tr style=\"text-align: right;\">\n",
       "      <th></th>\n",
       "      <th>Serial_ID</th>\n",
       "      <th>Patient_Name</th>\n",
       "      <th>Sex</th>\n",
       "      <th>Blood_group</th>\n",
       "      <th>Age</th>\n",
       "      <th>BMI</th>\n",
       "      <th>Blood_Pressure</th>\n",
       "      <th>Blood_Sugar</th>\n",
       "      <th>Insulin</th>\n",
       "      <th>Glucose</th>\n",
       "      <th>Diabetes_Outcome</th>\n",
       "      <th>Blood_urea_nitrogen_level</th>\n",
       "      <th>Uric_acid</th>\n",
       "      <th>Creatinine_level</th>\n",
       "      <th>Kidney_test_outcome</th>\n",
       "      <th>Drug_Diabetes</th>\n",
       "    </tr>\n",
       "  </thead>\n",
       "  <tbody>\n",
       "    <tr>\n",
       "      <th>0</th>\n",
       "      <td>A001</td>\n",
       "      <td>Vidusha Tripathi</td>\n",
       "      <td>Female</td>\n",
       "      <td>AB+</td>\n",
       "      <td>47</td>\n",
       "      <td>33.6</td>\n",
       "      <td>62</td>\n",
       "      <td>80</td>\n",
       "      <td>0</td>\n",
       "      <td>138</td>\n",
       "      <td>1</td>\n",
       "      <td>20</td>\n",
       "      <td>5.5</td>\n",
       "      <td>1.2</td>\n",
       "      <td>0</td>\n",
       "      <td>Precose</td>\n",
       "    </tr>\n",
       "    <tr>\n",
       "      <th>1</th>\n",
       "      <td>A002</td>\n",
       "      <td>Ram Das</td>\n",
       "      <td>Male</td>\n",
       "      <td>A+</td>\n",
       "      <td>23</td>\n",
       "      <td>38.2</td>\n",
       "      <td>82</td>\n",
       "      <td>52</td>\n",
       "      <td>125</td>\n",
       "      <td>84</td>\n",
       "      <td>0</td>\n",
       "      <td>20</td>\n",
       "      <td>1.8</td>\n",
       "      <td>1.3</td>\n",
       "      <td>0</td>\n",
       "      <td>Glyset</td>\n",
       "    </tr>\n",
       "    <tr>\n",
       "      <th>2</th>\n",
       "      <td>A003</td>\n",
       "      <td>Surya Modak</td>\n",
       "      <td>Male</td>\n",
       "      <td>B+</td>\n",
       "      <td>31</td>\n",
       "      <td>44.2</td>\n",
       "      <td>0</td>\n",
       "      <td>99</td>\n",
       "      <td>0</td>\n",
       "      <td>145</td>\n",
       "      <td>1</td>\n",
       "      <td>7</td>\n",
       "      <td>3.4</td>\n",
       "      <td>0.9</td>\n",
       "      <td>0</td>\n",
       "      <td>Precose</td>\n",
       "    </tr>\n",
       "    <tr>\n",
       "      <th>3</th>\n",
       "      <td>A004</td>\n",
       "      <td>Jonatham Snow</td>\n",
       "      <td>Male</td>\n",
       "      <td>O+</td>\n",
       "      <td>24</td>\n",
       "      <td>42.3</td>\n",
       "      <td>68</td>\n",
       "      <td>110</td>\n",
       "      <td>250</td>\n",
       "      <td>135</td>\n",
       "      <td>0</td>\n",
       "      <td>15</td>\n",
       "      <td>4.5</td>\n",
       "      <td>0.4</td>\n",
       "      <td>0</td>\n",
       "      <td>Precose</td>\n",
       "    </tr>\n",
       "    <tr>\n",
       "      <th>4</th>\n",
       "      <td>A005</td>\n",
       "      <td>Motilal Khan</td>\n",
       "      <td>Male</td>\n",
       "      <td>A-</td>\n",
       "      <td>21</td>\n",
       "      <td>40.7</td>\n",
       "      <td>62</td>\n",
       "      <td>155</td>\n",
       "      <td>480</td>\n",
       "      <td>139</td>\n",
       "      <td>0</td>\n",
       "      <td>25</td>\n",
       "      <td>6.7</td>\n",
       "      <td>1.5</td>\n",
       "      <td>1</td>\n",
       "      <td>Precose</td>\n",
       "    </tr>\n",
       "  </tbody>\n",
       "</table>\n",
       "</div>"
      ],
      "text/plain": [
       "  Serial_ID      Patient_Name     Sex Blood_group  Age   BMI  Blood_Pressure  \\\n",
       "0      A001  Vidusha Tripathi  Female         AB+   47  33.6              62   \n",
       "1      A002           Ram Das    Male          A+   23  38.2              82   \n",
       "2      A003       Surya Modak    Male          B+   31  44.2               0   \n",
       "3      A004     Jonatham Snow    Male          O+   24  42.3              68   \n",
       "4      A005      Motilal Khan    Male          A-   21  40.7              62   \n",
       "\n",
       "   Blood_Sugar  Insulin  Glucose  Diabetes_Outcome  Blood_urea_nitrogen_level  \\\n",
       "0           80        0      138                 1                         20   \n",
       "1           52      125       84                 0                         20   \n",
       "2           99        0      145                 1                          7   \n",
       "3          110      250      135                 0                         15   \n",
       "4          155      480      139                 0                         25   \n",
       "\n",
       "   Uric_acid  Creatinine_level  Kidney_test_outcome Drug_Diabetes  \n",
       "0        5.5               1.2                    0       Precose  \n",
       "1        1.8               1.3                    0        Glyset  \n",
       "2        3.4               0.9                    0       Precose  \n",
       "3        4.5               0.4                    0       Precose  \n",
       "4        6.7               1.5                    1       Precose  "
      ]
     },
     "execution_count": 60,
     "metadata": {},
     "output_type": "execute_result"
    }
   ],
   "source": [
    "import pandas as pd\n",
    "df = pd.read_csv(\"E:/proj_folder/proj_datasheet.csv\")\n",
    "df.head()"
   ]
  },
  {
   "cell_type": "code",
   "execution_count": 61,
   "metadata": {},
   "outputs": [
    {
     "data": {
      "text/html": [
       "<div>\n",
       "<style scoped>\n",
       "    .dataframe tbody tr th:only-of-type {\n",
       "        vertical-align: middle;\n",
       "    }\n",
       "\n",
       "    .dataframe tbody tr th {\n",
       "        vertical-align: top;\n",
       "    }\n",
       "\n",
       "    .dataframe thead th {\n",
       "        text-align: right;\n",
       "    }\n",
       "</style>\n",
       "<table border=\"1\" class=\"dataframe\">\n",
       "  <thead>\n",
       "    <tr style=\"text-align: right;\">\n",
       "      <th></th>\n",
       "      <th>Age</th>\n",
       "      <th>BMI</th>\n",
       "      <th>Blood_Pressure</th>\n",
       "      <th>Insulin</th>\n",
       "      <th>Glucose</th>\n",
       "      <th>Blood_urea_nitrogen_level</th>\n",
       "      <th>Uric_acid</th>\n",
       "      <th>Creatinine_level</th>\n",
       "    </tr>\n",
       "  </thead>\n",
       "  <tbody>\n",
       "    <tr>\n",
       "      <th>count</th>\n",
       "      <td>50.00000</td>\n",
       "      <td>50.000000</td>\n",
       "      <td>50.000000</td>\n",
       "      <td>50.000000</td>\n",
       "      <td>50.000000</td>\n",
       "      <td>50.000000</td>\n",
       "      <td>50.000000</td>\n",
       "      <td>50.00000</td>\n",
       "    </tr>\n",
       "    <tr>\n",
       "      <th>mean</th>\n",
       "      <td>36.30000</td>\n",
       "      <td>32.064000</td>\n",
       "      <td>68.940000</td>\n",
       "      <td>66.360000</td>\n",
       "      <td>122.800000</td>\n",
       "      <td>23.180000</td>\n",
       "      <td>5.232000</td>\n",
       "      <td>1.34600</td>\n",
       "    </tr>\n",
       "    <tr>\n",
       "      <th>std</th>\n",
       "      <td>13.21139</td>\n",
       "      <td>8.178787</td>\n",
       "      <td>17.779155</td>\n",
       "      <td>101.080845</td>\n",
       "      <td>36.027767</td>\n",
       "      <td>8.160857</td>\n",
       "      <td>2.179257</td>\n",
       "      <td>0.73435</td>\n",
       "    </tr>\n",
       "    <tr>\n",
       "      <th>min</th>\n",
       "      <td>21.00000</td>\n",
       "      <td>0.000000</td>\n",
       "      <td>0.000000</td>\n",
       "      <td>0.000000</td>\n",
       "      <td>71.000000</td>\n",
       "      <td>5.000000</td>\n",
       "      <td>1.700000</td>\n",
       "      <td>0.00000</td>\n",
       "    </tr>\n",
       "    <tr>\n",
       "      <th>25%</th>\n",
       "      <td>25.00000</td>\n",
       "      <td>26.775000</td>\n",
       "      <td>64.000000</td>\n",
       "      <td>0.000000</td>\n",
       "      <td>91.750000</td>\n",
       "      <td>16.500000</td>\n",
       "      <td>3.250000</td>\n",
       "      <td>0.90000</td>\n",
       "    </tr>\n",
       "    <tr>\n",
       "      <th>50%</th>\n",
       "      <td>33.00000</td>\n",
       "      <td>32.200000</td>\n",
       "      <td>70.000000</td>\n",
       "      <td>0.000000</td>\n",
       "      <td>114.000000</td>\n",
       "      <td>24.000000</td>\n",
       "      <td>5.650000</td>\n",
       "      <td>1.30000</td>\n",
       "    </tr>\n",
       "    <tr>\n",
       "      <th>75%</th>\n",
       "      <td>45.00000</td>\n",
       "      <td>37.275000</td>\n",
       "      <td>77.500000</td>\n",
       "      <td>101.250000</td>\n",
       "      <td>145.750000</td>\n",
       "      <td>29.750000</td>\n",
       "      <td>6.700000</td>\n",
       "      <td>1.57500</td>\n",
       "    </tr>\n",
       "    <tr>\n",
       "      <th>max</th>\n",
       "      <td>67.00000</td>\n",
       "      <td>49.100000</td>\n",
       "      <td>110.000000</td>\n",
       "      <td>480.000000</td>\n",
       "      <td>195.000000</td>\n",
       "      <td>38.000000</td>\n",
       "      <td>8.900000</td>\n",
       "      <td>3.60000</td>\n",
       "    </tr>\n",
       "  </tbody>\n",
       "</table>\n",
       "</div>"
      ],
      "text/plain": [
       "            Age        BMI  Blood_Pressure     Insulin     Glucose  \\\n",
       "count  50.00000  50.000000       50.000000   50.000000   50.000000   \n",
       "mean   36.30000  32.064000       68.940000   66.360000  122.800000   \n",
       "std    13.21139   8.178787       17.779155  101.080845   36.027767   \n",
       "min    21.00000   0.000000        0.000000    0.000000   71.000000   \n",
       "25%    25.00000  26.775000       64.000000    0.000000   91.750000   \n",
       "50%    33.00000  32.200000       70.000000    0.000000  114.000000   \n",
       "75%    45.00000  37.275000       77.500000  101.250000  145.750000   \n",
       "max    67.00000  49.100000      110.000000  480.000000  195.000000   \n",
       "\n",
       "       Blood_urea_nitrogen_level  Uric_acid  Creatinine_level  \n",
       "count                  50.000000  50.000000          50.00000  \n",
       "mean                   23.180000   5.232000           1.34600  \n",
       "std                     8.160857   2.179257           0.73435  \n",
       "min                     5.000000   1.700000           0.00000  \n",
       "25%                    16.500000   3.250000           0.90000  \n",
       "50%                    24.000000   5.650000           1.30000  \n",
       "75%                    29.750000   6.700000           1.57500  \n",
       "max                    38.000000   8.900000           3.60000  "
      ]
     },
     "execution_count": 61,
     "metadata": {},
     "output_type": "execute_result"
    }
   ],
   "source": [
    "msm= df[['Age','BMI','Blood_Pressure','Insulin','Glucose','Blood_urea_nitrogen_level','Uric_acid','Creatinine_level']]\n",
    "msm.describe()#it presents the mean,standard deviation,min value,max value of the dataset of patient parameters"
   ]
  },
  {
   "cell_type": "code",
   "execution_count": 62,
   "metadata": {},
   "outputs": [
    {
     "data": {
      "image/png": "[encoded data removed]",
      "text/plain": [
       "<Figure size 432x288 with 1 Axes>"
      ]
     },
     "metadata": {
      "needs_background": "light"
     },
     "output_type": "display_data"
    }
   ],
   "source": [
    "#histogram of BMI\n",
    "import matplotlib.pyplot as plt\n",
    "import pandas as pd\n",
    "import pylab as pl\n",
    "import numpy as np\n",
    "%matplotlib inline\n",
    "\n",
    "BMI= df[['BMI',]]\n",
    "BMI.hist()\n",
    "plt.title(\"Histogram of BMI\")\n",
    "plt.show()\n",
    "\n"
   ]
  },
  {
   "cell_type": "code",
   "execution_count": 63,
   "metadata": {},
   "outputs": [
    {
     "data": {
      "image/png": "[encoded data removed]",
      "text/plain": [
       "<Figure size 432x288 with 1 Axes>"
      ]
     },
     "metadata": {
      "needs_background": "light"
     },
     "output_type": "display_data"
    }
   ],
   "source": [
    "#histogram of blood pressure\n",
    "bp= df[['Blood_Pressure']]\n",
    "bp.hist()\n",
    "plt.title(\"Histogram of Blood_Pressure\")\n",
    "plt.show()\n"
   ]
  },
  {
   "cell_type": "code",
   "execution_count": 64,
   "metadata": {},
   "outputs": [
    {
     "data": {
      "image/png": "[encoded data removed]",
      "text/plain": [
       "<Figure size 432x288 with 1 Axes>"
      ]
     },
     "metadata": {
      "needs_background": "light"
     },
     "output_type": "display_data"
    }
   ],
   "source": [
    "#histogram of Insulin\n",
    "I= df[['Insulin']]\n",
    "I.hist()\n",
    "plt.title(\"Histogram of Insulin\")\n",
    "plt.show()\n"
   ]
  },
  {
   "cell_type": "code",
   "execution_count": 65,
   "metadata": {},
   "outputs": [
    {
     "data": {
      "image/png": "[encoded data removed]",
      "text/plain": [
       "<Figure size 432x288 with 1 Axes>"
      ]
     },
     "metadata": {
      "needs_background": "light"
     },
     "output_type": "display_data"
    }
   ],
   "source": [
    "#histogram of Glucose\n",
    "G= df[['Glucose']]\n",
    "G.hist()\n",
    "plt.title(\"Histogram of Glucose\")\n",
    "plt.show()\n"
   ]
  },
  {
   "cell_type": "code",
   "execution_count": 66,
   "metadata": {},
   "outputs": [
    {
     "data": {
      "image/png": "[encoded data removed]",
      "text/plain": [
       "<Figure size 432x288 with 1 Axes>"
      ]
     },
     "metadata": {
      "needs_background": "light"
     },
     "output_type": "display_data"
    }
   ],
   "source": [
    "#histogram of Blood Urea Nitrogen Level\n",
    "bun= df[['Blood_urea_nitrogen_level']]\n",
    "bun.hist()\n",
    "plt.title(\"Histogram of Blood_urea_nitrogen_level\")\n",
    "plt.show()\n"
   ]
  },
  {
   "cell_type": "code",
   "execution_count": 67,
   "metadata": {},
   "outputs": [
    {
     "data": {
      "image/png": "[encoded data removed]",
      "text/plain": [
       "<Figure size 432x288 with 1 Axes>"
      ]
     },
     "metadata": {
      "needs_background": "light"
     },
     "output_type": "display_data"
    }
   ],
   "source": [
    "#histogram of Uric acid\n",
    "ua= df[['Uric_acid']]\n",
    "ua.hist()\n",
    "plt.title(\"Histogram of Uric_acid\")\n",
    "plt.show()\n"
   ]
  },
  {
   "cell_type": "code",
   "execution_count": 68,
   "metadata": {},
   "outputs": [
    {
     "data": {
      "image/png": "[encoded data removed]",
      "text/plain": [
       "<Figure size 432x288 with 1 Axes>"
      ]
     },
     "metadata": {
      "needs_background": "light"
     },
     "output_type": "display_data"
    }
   ],
   "source": [
    "#histogram of Creatinine level\n",
    "c= df[['Creatinine_level']]\n",
    "c.hist()\n",
    "plt.title(\"Histogram of Creatinine level\")\n",
    "plt.show()\n"
   ]
  },
  {
   "cell_type": "markdown",
   "metadata": {},
   "source": [
    "## BAR GRAPH"
   ]
  },
  {
   "cell_type": "code",
   "execution_count": 69,
   "metadata": {},
   "outputs": [
    {
     "data": {
      "image/png": "[encoded data removed]",
      "text/plain": [
       "<Figure size 432x288 with 1 Axes>"
      ]
     },
     "metadata": {
      "needs_background": "light"
     },
     "output_type": "display_data"
    }
   ],
   "source": [
    "#plotting bar graphs\n",
    "\n",
    "table=pd.read_csv('E:/proj_folder/proj_datasheet.csv')\n",
    "table.head()\n",
    "\n",
    "plt.bar(x=np.arange(1,51),height=table['Blood_Sugar'])\n",
    "\n",
    "plt.title(\"Bar graph of Patient age wise Blood Sugar levels\")\n",
    "\n",
    "#Give the x axis some labels across the tick marks.\n",
    "#Argument one is the position for each label\n",
    "#Argument two is the label values and the final one is to rotate our labels\n",
    "plt.xticks(np.arange(1,51), table['Age'], rotation=90)\n",
    "\n",
    "#Give the x and y axes a title\n",
    "plt.xlabel(\"Age\")\n",
    "plt.ylabel(\"Blood_Sugar\")\n",
    "\n",
    "#Finally, show me our new plot\n",
    "plt.show()\n"
   ]
  },
  {
   "cell_type": "code",
   "execution_count": 70,
   "metadata": {},
   "outputs": [
    {
     "data": {
      "image/png": "[encoded data removed]",
      "text/plain": [
       "<Figure size 432x288 with 1 Axes>"
      ]
     },
     "metadata": {
      "needs_background": "light"
     },
     "output_type": "display_data"
    }
   ],
   "source": [
    "#plotting bar graphs\n",
    "\n",
    "table=pd.read_csv('E:/proj_folder/proj_datasheet.csv')\n",
    "table.head()\n",
    "\n",
    "plt.bar(x=np.arange(1,51),height=table['Creatinine_level'])\n",
    "\n",
    "plt.title(\"Bar graph of Patient age wise Creatinine levels\")\n",
    "\n",
    "#Give the x axis some labels across the tick marks.\n",
    "#Argument one is the position for each label\n",
    "#Argument two is the label values and the final one is to rotate our labels\n",
    "plt.xticks(np.arange(1,51), table['Age'], rotation=90)\n",
    "\n",
    "#Give the x and y axes a title\n",
    "plt.xlabel(\"Age\")\n",
    "plt.ylabel(\"Creatinine Level\")\n",
    "\n",
    "#Finally, show me our new plot\n",
    "plt.show()\n"
   ]
  },
  {
   "cell_type": "code",
   "execution_count": 71,
   "metadata": {},
   "outputs": [
    {
     "data": {
      "image/png": "[encoded data removed]",
      "text/plain": [
       "<Figure size 432x288 with 1 Axes>"
      ]
     },
     "metadata": {
      "needs_background": "light"
     },
     "output_type": "display_data"
    }
   ],
   "source": [
    "#plotting bar graphs\n",
    "\n",
    "table=pd.read_csv('E:/proj_folder/proj_datasheet.csv')\n",
    "table.head()\n",
    "\n",
    "plt.bar(x=np.arange(1,51),height=table['Blood_Pressure'])\n",
    "\n",
    "plt.title(\"Bar graph of Patient age wise Blood Sugar levels\")\n",
    "\n",
    "#Give the x axis some labels across the tick marks.\n",
    "#Argument one is the position for each label\n",
    "#Argument two is the label values and the final one is to rotate our labels\n",
    "plt.xticks(np.arange(1,51), table['Age'], rotation=90)\n",
    "\n",
    "#Give the x and y axes a title\n",
    "plt.xlabel(\"Age\")\n",
    "plt.ylabel(\"Blood Pressuer\")\n",
    "\n",
    "#Finally, show me our new plot\n",
    "plt.show()\n"
   ]
  },
  {
   "cell_type": "markdown",
   "metadata": {},
   "source": [
    "## LINEAR REGRESSION\n"
   ]
  },
  {
   "cell_type": "markdown",
   "metadata": {},
   "source": [
    "FOR DIABETES"
   ]
  },
  {
   "cell_type": "code",
   "execution_count": 72,
   "metadata": {},
   "outputs": [
    {
     "data": {
      "image/png": "[encoded data removed]",
      "text/plain": [
       "<Figure size 432x288 with 1 Axes>"
      ]
     },
     "metadata": {},
     "output_type": "display_data"
    }
   ],
   "source": [
    "# Linear Regression\n",
    "\n",
    "# Importing the libraries\n",
    "import numpy as np\n",
    "import matplotlib.pyplot as plt\n",
    "import pandas as pd\n",
    "\n",
    "# Importing the dataset\n",
    "dataset = pd.read_csv('E:/proj_folder/proj_datasheet.csv')\n",
    "X = dataset.iloc[:, [4]].values\n",
    "y = dataset.iloc[:, 7].values\n",
    "\n",
    "# Split the DATA into training/testing sets\n",
    "from sklearn.model_selection import train_test_split\n",
    "x_train,x_test,y_train, y_test = train_test_split(X,y,test_size=0.2)\n",
    "\n",
    "# Split the TARGETS into training/testing sets\n",
    "from sklearn.linear_model import LinearRegression\n",
    "# Create linear regression object\n",
    "regr = LinearRegression()\n",
    "\n",
    "# Train the model using the training sets\n",
    "regr.fit(x_train, y_train)\n",
    "\n",
    "# Make predictions using the testing set\n",
    "y_pred = regr.predict(x_test)\n",
    "\n",
    "# Plot outputs\n",
    "plt.scatter(x_train, y_train, color = 'blue')\n",
    "plt.plot(x_test, y_pred, color = 'black', linewidth = 2)\n",
    "plt.title('Truth or Bluff (Linear Regression)')\n",
    "plt.xlabel('Blood Sugar')\n",
    "plt.ylabel('Diabetes Outcome')\n",
    "plt.xticks(())\n",
    "plt.yticks(())\n",
    "plt.show()"
   ]
  },
  {
   "cell_type": "code",
   "execution_count": 73,
   "metadata": {},
   "outputs": [
    {
     "name": "stdout",
     "output_type": "stream",
     "text": [
      "94.14013481878024\n"
     ]
    }
   ],
   "source": [
    "#accuracy of linear regression\n",
    "#accuracy of linear regression\n",
    "import math\n",
    "\n",
    "from sklearn.metrics import mean_squared_error\n",
    "\n",
    "rmse = math.sqrt(mean_squared_error(x_test, y_pred))\n",
    "print(rmse)\n",
    "#Around 0.001 is great, 1.0 - 2.0 means you should tune your model\n",
    "#greater than that means if tuning doesn't work, try another model\n"
   ]
  },
  {
   "cell_type": "markdown",
   "metadata": {},
   "source": [
    "## LOGISTIC REGRESSION"
   ]
  },
  {
   "cell_type": "markdown",
   "metadata": {},
   "source": [
    "FOR DIABETES"
   ]
  },
  {
   "cell_type": "code",
   "execution_count": 74,
   "metadata": {},
   "outputs": [],
   "source": [
    "from sklearn.model_selection import train_test_split\n",
    "\n",
    "feature_col_names = ['Blood_Sugar', 'Insulin', 'Glucose']\n",
    "predicted_class_names = ['Diabetes_Outcome']\n",
    "\n",
    "X = data_frame[feature_col_names].values     # predictor feature columns (8 X m)\n",
    "y = data_frame[predicted_class_names].values # predicted class (1=true, 0=false) column (1 X m)\n",
    "split_test_size = 0.30\n",
    "\n",
    "X_train, X_test, y_train, y_test = train_test_split(X, y, test_size=split_test_size, random_state=42) \n",
    "                            # test_size = 0.3 is 30%, 42 is the answer to everything"
   ]
  },
  {
   "cell_type": "code",
   "execution_count": 75,
   "metadata": {},
   "outputs": [
    {
     "name": "stderr",
     "output_type": "stream",
     "text": [
      "C:\\Users\\TUKAI\\Anaconda\\lib\\site-packages\\sklearn\\utils\\validation.py:595: DataConversionWarning: Data with input dtype int64 was converted to float64 by StandardScaler.\n",
      "  warnings.warn(msg, DataConversionWarning)\n",
      "C:\\Users\\TUKAI\\Anaconda\\lib\\site-packages\\sklearn\\utils\\validation.py:595: DataConversionWarning: Data with input dtype int64 was converted to float64 by StandardScaler.\n",
      "  warnings.warn(msg, DataConversionWarning)\n",
      "C:\\Users\\TUKAI\\Anaconda\\lib\\site-packages\\sklearn\\utils\\validation.py:595: DataConversionWarning: Data with input dtype int64 was converted to float64 by StandardScaler.\n",
      "  warnings.warn(msg, DataConversionWarning)\n",
      "C:\\Users\\TUKAI\\Anaconda\\lib\\site-packages\\sklearn\\linear_model\\logistic.py:433: FutureWarning: Default solver will be changed to 'lbfgs' in 0.22. Specify a solver to silence this warning.\n",
      "  FutureWarning)\n",
      "'c' argument looks like a single numeric RGB or RGBA sequence, which should be avoided as value-mapping will have precedence in case its length matches with 'x' & 'y'.  Please use a 2-D array with a single row if you really want to specify the same RGB or RGBA value for all points.\n",
      "'c' argument looks like a single numeric RGB or RGBA sequence, which should be avoided as value-mapping will have precedence in case its length matches with 'x' & 'y'.  Please use a 2-D array with a single row if you really want to specify the same RGB or RGBA value for all points.\n"
     ]
    },
    {
     "data": {
      "image/png": "[encoded data removed]",
      "text/plain": [
       "<Figure size 432x288 with 1 Axes>"
      ]
     },
     "metadata": {
      "needs_background": "light"
     },
     "output_type": "display_data"
    },
    {
     "name": "stderr",
     "output_type": "stream",
     "text": [
      "'c' argument looks like a single numeric RGB or RGBA sequence, which should be avoided as value-mapping will have precedence in case its length matches with 'x' & 'y'.  Please use a 2-D array with a single row if you really want to specify the same RGB or RGBA value for all points.\n",
      "'c' argument looks like a single numeric RGB or RGBA sequence, which should be avoided as value-mapping will have precedence in case its length matches with 'x' & 'y'.  Please use a 2-D array with a single row if you really want to specify the same RGB or RGBA value for all points.\n"
     ]
    },
    {
     "data": {
      "image/png": "[encoded data removed]",
      "text/plain": [
       "<Figure size 432x288 with 1 Axes>"
      ]
     },
     "metadata": {
      "needs_background": "light"
     },
     "output_type": "display_data"
    },
    {
     "data": {
      "text/plain": [
       "0.5384615384615384"
      ]
     },
     "execution_count": 75,
     "metadata": {},
     "output_type": "execute_result"
    }
   ],
   "source": [
    "# Logistic Regression for diabetes\n",
    "\n",
    "# Importing the libraries\n",
    "import numpy as np\n",
    "import matplotlib.pyplot as plt\n",
    "import pandas as pd\n",
    "\n",
    "# Importing the dataset\n",
    "dataset = pd.read_csv('E:/proj_folder/proj_datasheet.csv')\n",
    "X = dataset.iloc[:, [7, 9]].values\n",
    "y = dataset.iloc[:, 10].values\n",
    "\n",
    "# Splitting the dataset into the Training set and Test set\n",
    "from sklearn.model_selection import train_test_split\n",
    "X_train, X_test, y_train, y_test = train_test_split(X, y, test_size = 0.25, random_state = 0)\n",
    "\n",
    "# Feature Scaling\n",
    "from sklearn.preprocessing import StandardScaler\n",
    "sc = StandardScaler()\n",
    "X_train = sc.fit_transform(X_train)\n",
    "X_test = sc.transform(X_test)\n",
    "\n",
    "# Fitting Logistic Regression to the Training set\n",
    "from sklearn.linear_model import LogisticRegression\n",
    "classifier = LogisticRegression(random_state = 0)\n",
    "classifier.fit(X_train, y_train)\n",
    "\n",
    "# Predicting the Test set results\n",
    "y_pred = classifier.predict(X_test)\n",
    "# Making the Confusion Matrix\n",
    "from sklearn.metrics import confusion_matrix\n",
    "cm = confusion_matrix(y_test, y_pred)\n",
    "# Visualising the Training set results\n",
    "from matplotlib.colors import ListedColormap\n",
    "X_set, y_set = X_train, y_train\n",
    "X1, X2 = np.meshgrid(np.arange(start = X_set[:, 0].min() - 1, stop = X_set[:, 0].max() + 1, step = 0.01),\n",
    "                     np.arange(start = X_set[:, 1].min() - 1, stop = X_set[:, 1].max() + 1, step = 0.01))\n",
    "plt.contourf(X1, X2, classifier.predict(np.array([X1.ravel(), X2.ravel()]).T).reshape(X1.shape),\n",
    "             alpha = 0.75, cmap = ListedColormap(('red', 'green')))\n",
    "plt.xlim(X1.min(), X1.max())\n",
    "plt.ylim(X2.min(), X2.max())\n",
    "for i, j in enumerate(np.unique(y_set)):\n",
    "    plt.scatter(X_set[y_set == j, 0], X_set[y_set == j, 1],\n",
    "                c = ListedColormap(('blue', 'yellow'))(i), label = j)\n",
    "plt.title('Logistic Regression (Training set)')\n",
    "plt.xlabel('Attributes')\n",
    "plt.ylabel('Outcome')\n",
    "plt.legend()\n",
    "plt.show()\n",
    "# Visualising the Test set results\n",
    "from matplotlib.colors import ListedColormap\n",
    "X_set, y_set = X_test, y_test\n",
    "X1, X2 = np.meshgrid(np.arange(start = X_set[:, 0].min() - 1, stop = X_set[:, 0].max() + 1, step = 0.01),\n",
    "                     np.arange(start = X_set[:, 1].min() - 1, stop = X_set[:, 1].max() + 1, step = 0.01))\n",
    "plt.contourf(X1, X2, classifier.predict(np.array([X1.ravel(), X2.ravel()]).T).reshape(X1.shape),\n",
    "             alpha = 0.75, cmap = ListedColormap(('blue', 'yellow')))\n",
    "plt.xlim(X1.min(), X1.max())\n",
    "plt.ylim(X2.min(), X2.max())\n",
    "for i, j in enumerate(np.unique(y_set)):\n",
    "    plt.scatter(X_set[y_set == j, 0], X_set[y_set == j, 1],c = ListedColormap(('black', 'white'))(i), label = j)\n",
    "plt.title('Logistic Regression (Test set)')\n",
    "plt.xlabel('Attributes')\n",
    "plt.ylabel('Outcome')\n",
    "plt.legend()\n",
    "plt.show()\n",
    "\n",
    "# Predicting a new result with Logistic Regression\n",
    "from sklearn.metrics import accuracy_score\n",
    "accuracy_score(y_test, y_pred)"
   ]
  },
  {
   "cell_type": "markdown",
   "metadata": {},
   "source": [
    "FOR KIDNEY"
   ]
  },
  {
   "cell_type": "code",
   "execution_count": 76,
   "metadata": {},
   "outputs": [
    {
     "name": "stderr",
     "output_type": "stream",
     "text": [
      "C:\\Users\\TUKAI\\Anaconda\\lib\\site-packages\\sklearn\\linear_model\\logistic.py:433: FutureWarning: Default solver will be changed to 'lbfgs' in 0.22. Specify a solver to silence this warning.\n",
      "  FutureWarning)\n",
      "'c' argument looks like a single numeric RGB or RGBA sequence, which should be avoided as value-mapping will have precedence in case its length matches with 'x' & 'y'.  Please use a 2-D array with a single row if you really want to specify the same RGB or RGBA value for all points.\n",
      "'c' argument looks like a single numeric RGB or RGBA sequence, which should be avoided as value-mapping will have precedence in case its length matches with 'x' & 'y'.  Please use a 2-D array with a single row if you really want to specify the same RGB or RGBA value for all points.\n"
     ]
    },
    {
     "data": {
      "image/png": "[encoded data removed]",
      "text/plain": [
       "<Figure size 432x288 with 1 Axes>"
      ]
     },
     "metadata": {
      "needs_background": "light"
     },
     "output_type": "display_data"
    },
    {
     "name": "stderr",
     "output_type": "stream",
     "text": [
      "'c' argument looks like a single numeric RGB or RGBA sequence, which should be avoided as value-mapping will have precedence in case its length matches with 'x' & 'y'.  Please use a 2-D array with a single row if you really want to specify the same RGB or RGBA value for all points.\n",
      "'c' argument looks like a single numeric RGB or RGBA sequence, which should be avoided as value-mapping will have precedence in case its length matches with 'x' & 'y'.  Please use a 2-D array with a single row if you really want to specify the same RGB or RGBA value for all points.\n"
     ]
    },
    {
     "data": {
      "image/png": "[encoded data removed]",
      "text/plain": [
       "<Figure size 432x288 with 1 Axes>"
      ]
     },
     "metadata": {
      "needs_background": "light"
     },
     "output_type": "display_data"
    },
    {
     "data": {
      "text/plain": [
       "0.9230769230769231"
      ]
     },
     "execution_count": 76,
     "metadata": {},
     "output_type": "execute_result"
    }
   ],
   "source": [
    "# Logistic Regression\n",
    "\n",
    "# Importing the libraries\n",
    "import numpy as np\n",
    "import matplotlib.pyplot as plt\n",
    "import pandas as pd\n",
    "\n",
    "# Importing the dataset\n",
    "dataset = pd.read_csv('E:/proj_folder/proj_datasheet.csv')\n",
    "X = dataset.iloc[:, [11, 13]].values\n",
    "y = dataset.iloc[:, 14].values\n",
    "\n",
    "# Splitting the dataset into the Training set and Test set\n",
    "from sklearn.model_selection import train_test_split\n",
    "X_train, X_test, y_train, y_test = train_test_split(X, y, test_size = 0.25, random_state = 0)\n",
    "\n",
    "# Feature Scaling\n",
    "from sklearn.preprocessing import StandardScaler\n",
    "sc = StandardScaler()\n",
    "X_train = sc.fit_transform(X_train)\n",
    "X_test = sc.transform(X_test)\n",
    "\n",
    "# Fitting Logistic Regression to the Training set\n",
    "from sklearn.linear_model import LogisticRegression\n",
    "classifier = LogisticRegression(random_state = 0)\n",
    "classifier.fit(X_train, y_train)\n",
    "\n",
    "# Predicting the Test set results\n",
    "y_pred = classifier.predict(X_test)\n",
    "\n",
    "# Making the Confusion Matrix\n",
    "from sklearn.metrics import confusion_matrix\n",
    "cm = confusion_matrix(y_test, y_pred)\n",
    "\n",
    "# Visualising the Training set results\n",
    "from matplotlib.colors import ListedColormap\n",
    "X_set, y_set = X_train, y_train\n",
    "X1, X2 = np.meshgrid(np.arange(start = X_set[:, 0].min() - 1, stop = X_set[:, 0].max() + 1, step = 0.01),\n",
    "                     np.arange(start = X_set[:, 1].min() - 1, stop = X_set[:, 1].max() + 1, step = 0.01))\n",
    "plt.contourf(X1, X2, classifier.predict(np.array([X1.ravel(), X2.ravel()]).T).reshape(X1.shape),\n",
    "             alpha = 0.75, cmap = ListedColormap(('red', 'green')))\n",
    "plt.xlim(X1.min(), X1.max())\n",
    "plt.ylim(X2.min(), X2.max())\n",
    "for i, j in enumerate(np.unique(y_set)):\n",
    "    plt.scatter(X_set[y_set == j, 0], X_set[y_set == j, 1],\n",
    "                c = ListedColormap(('blue', 'yellow'))(i), label = j)\n",
    "plt.title('Logistic Regression (Training set)')\n",
    "plt.xlabel('Attributes')\n",
    "plt.ylabel('kidney function test')\n",
    "plt.legend()\n",
    "plt.show()\n",
    "\n",
    "# Visualising the Test set results\n",
    "from matplotlib.colors import ListedColormap\n",
    "X_set, y_set = X_test, y_test\n",
    "X1, X2 = np.meshgrid(np.arange(start = X_set[:, 0].min() - 1, stop = X_set[:, 0].max() + 1, step = 0.01),\n",
    "                     np.arange(start = X_set[:, 1].min() - 1, stop = X_set[:, 1].max() + 1, step = 0.01))\n",
    "plt.contourf(X1, X2, classifier.predict(np.array([X1.ravel(), X2.ravel()]).T).reshape(X1.shape),\n",
    "             alpha = 0.75, cmap = ListedColormap(('blue', 'yellow')))\n",
    "plt.xlim(X1.min(), X1.max())\n",
    "plt.ylim(X2.min(), X2.max())\n",
    "for i, j in enumerate(np.unique(y_set)):\n",
    "    plt.scatter(X_set[y_set == j, 0], X_set[y_set == j, 1],\n",
    "                c = ListedColormap(('black', 'white'))(i), label = j)\n",
    "plt.title('Logistic Regression (Test set)')\n",
    "plt.xlabel('Attributes')\n",
    "plt.ylabel('Kidney Function test')\n",
    "plt.legend()\n",
    "plt.show()\n",
    "\n",
    "# Predicting a new result with Logistic Regression\n",
    "from sklearn.metrics import accuracy_score\n",
    "accuracy_score(y_test, y_pred)"
   ]
  },
  {
   "cell_type": "markdown",
   "metadata": {},
   "source": [
    "## DECISION TREE"
   ]
  },
  {
   "cell_type": "markdown",
   "metadata": {},
   "source": [
    "FOR DIABETES"
   ]
  },
  {
   "cell_type": "code",
   "execution_count": 89,
   "metadata": {},
   "outputs": [
    {
     "data": {
      "text/plain": [
       "DecisionTreeClassifier(class_weight=None, criterion='entropy', max_depth=4,\n",
       "            max_features=None, max_leaf_nodes=None,\n",
       "            min_impurity_decrease=0.0, min_impurity_split=None,\n",
       "            min_samples_leaf=1, min_samples_split=2,\n",
       "            min_weight_fraction_leaf=0.0, presort=False, random_state=None,\n",
       "            splitter='best')"
      ]
     },
     "execution_count": 89,
     "metadata": {},
     "output_type": "execute_result"
    }
   ],
   "source": [
    "feature_col_names = [ 'Blood_Sugar', 'Insulin', 'Glucose']\n",
    "predicted_class_names = ['Diabetes_Outcome']\n",
    "X = data_frame[feature_col_names].values     # predictor feature columns (8 X m)\n",
    "y = data_frame[predicted_class_names].values # predicted class (1=true, 0=false) column (1 X m)\n",
    "split_test_size = 0.30\n",
    "from sklearn.model_selection import train_test_split\n",
    "X_trainset, X_testset, y_trainset, y_testset = train_test_split(X, y, test_size=0.2, random_state=3)\n",
    "from sklearn.tree import DecisionTreeClassifier\n",
    "clf=DecisionTreeClassifier(criterion=\"entropy\", max_depth =4)\n",
    "clf.fit(X,y)\n"
   ]
  },
  {
   "cell_type": "code",
   "execution_count": 90,
   "metadata": {},
   "outputs": [
    {
     "name": "stdout",
     "output_type": "stream",
     "text": [
      "DecisionTrees's Accuracy:  1.0\n"
     ]
    }
   ],
   "source": [
    "from sklearn.externals.six import StringIO\n",
    "from IPython.display import Image\n",
    "from sklearn import tree\n",
    "import pydotplus\n",
    "from sklearn.tree import DecisionTreeClassifier\n",
    "clf=DecisionTreeClassifier()\n",
    "clf.fit(X,y)\n",
    "y_pred=clf.predict(X_testset)\n",
    "\n",
    "from sklearn import metrics\n",
    "import matplotlib.pyplot as plt\n",
    "print(\"DecisionTrees's Accuracy: \", metrics.accuracy_score(y_testset, y_pred))\n",
    "dot_data=StringIO()\n",
    "tree.export_graphviz(clf,out_file=dot_data,feature_names=feature_col_names)\n",
    "graph=pydotplus.graph_from_dot_data(dot_data.getvalue())\n",
    "graph.write_png('DIABETES_project.png')\n",
    "Image=(graph.create_png())"
   ]
  },
  {
   "cell_type": "markdown",
   "metadata": {},
   "source": [
    "FOR KIDNEY"
   ]
  },
  {
   "cell_type": "code",
   "execution_count": 91,
   "metadata": {},
   "outputs": [
    {
     "name": "stdout",
     "output_type": "stream",
     "text": [
      "DecisionTrees's Accuracy:  1.0\n"
     ]
    }
   ],
   "source": [
    "from sklearn.model_selection import train_test_split\n",
    "\n",
    "feature_col_names = [ 'Blood_urea_nitrogen_level', 'Uric_acid', 'Creatinine_level']\n",
    "predicted_class_names = ['Kidney_test_outcome']\n",
    "\n",
    "X = data_frame[feature_col_names].values     # predictor feature columns (8 X m)\n",
    "y = data_frame[predicted_class_names].values # predicted class (1=true, 0=false) column (1 X m)\n",
    "split_test_size = 0.30\n",
    "from sklearn.model_selection import train_test_split\n",
    "\n",
    "X_trainset, X_testset, y_trainset, y_testset = train_test_split(X, y, test_size=0.2, random_state=3)\n",
    "\n",
    "from sklearn.tree import DecisionTreeClassifier\n",
    "clf=DecisionTreeClassifier(criterion=\"entropy\", max_depth =4)\n",
    "clf.fit(X,y)\n",
    "\n",
    "\n",
    "from sklearn.externals.six import StringIO\n",
    "from IPython.display import Image\n",
    "from sklearn import tree\n",
    "import pydotplus\n",
    "\n",
    "from sklearn.tree import DecisionTreeClassifier\n",
    "clf=DecisionTreeClassifier()\n",
    "clf.fit(X,y)\n",
    "y_pred=clf.predict(X_testset)\n",
    "\n",
    "from sklearn import metrics\n",
    "import matplotlib.pyplot as plt\n",
    "print(\"DecisionTrees's Accuracy: \", metrics.accuracy_score(y_testset, y_pred))\n",
    "\n",
    "\n",
    "dot_data=StringIO()\n",
    "tree.export_graphviz(clf,out_file=dot_data,feature_names=feature_col_names)\n",
    "graph=pydotplus.graph_from_dot_data(dot_data.getvalue())\n",
    "graph.write_png('KIDNEY_project.png')\n",
    "Image=(graph.create_png())"
   ]
  },
  {
   "cell_type": "code",
   "execution_count": 92,
   "metadata": {},
   "outputs": [
    {
     "data": {
      "text/html": [
       "<div>\n",
       "<style scoped>\n",
       "    .dataframe tbody tr th:only-of-type {\n",
       "        vertical-align: middle;\n",
       "    }\n",
       "\n",
       "    .dataframe tbody tr th {\n",
       "        vertical-align: top;\n",
       "    }\n",
       "\n",
       "    .dataframe thead th {\n",
       "        text-align: right;\n",
       "    }\n",
       "</style>\n",
       "<table border=\"1\" class=\"dataframe\">\n",
       "  <thead>\n",
       "    <tr style=\"text-align: right;\">\n",
       "      <th></th>\n",
       "      <th>Serial_ID</th>\n",
       "      <th>Patient_Name</th>\n",
       "      <th>Sex</th>\n",
       "      <th>Blood_group</th>\n",
       "      <th>Age</th>\n",
       "      <th>BMI</th>\n",
       "      <th>Blood_Pressure</th>\n",
       "      <th>Blood_Sugar</th>\n",
       "      <th>Insulin</th>\n",
       "      <th>Glucose</th>\n",
       "      <th>Diabetes_Outcome</th>\n",
       "      <th>Blood_urea_nitrogen_level</th>\n",
       "      <th>Uric_acid</th>\n",
       "      <th>Creatinine_level</th>\n",
       "      <th>Kidney_test_outcome</th>\n",
       "      <th>Drug_Diabetes</th>\n",
       "      <th>Drug_kidney</th>\n",
       "    </tr>\n",
       "  </thead>\n",
       "  <tbody>\n",
       "    <tr>\n",
       "      <th>0</th>\n",
       "      <td>A001</td>\n",
       "      <td>Vidusha Tripathi</td>\n",
       "      <td>Female</td>\n",
       "      <td>AB+</td>\n",
       "      <td>47</td>\n",
       "      <td>33.6</td>\n",
       "      <td>62</td>\n",
       "      <td>80</td>\n",
       "      <td>0</td>\n",
       "      <td>138</td>\n",
       "      <td>1</td>\n",
       "      <td>20</td>\n",
       "      <td>5.5</td>\n",
       "      <td>1.2</td>\n",
       "      <td>0</td>\n",
       "      <td>Precose</td>\n",
       "      <td>Enalapril</td>\n",
       "    </tr>\n",
       "    <tr>\n",
       "      <th>1</th>\n",
       "      <td>A002</td>\n",
       "      <td>Ram Das</td>\n",
       "      <td>Male</td>\n",
       "      <td>A+</td>\n",
       "      <td>23</td>\n",
       "      <td>38.2</td>\n",
       "      <td>82</td>\n",
       "      <td>52</td>\n",
       "      <td>125</td>\n",
       "      <td>84</td>\n",
       "      <td>0</td>\n",
       "      <td>20</td>\n",
       "      <td>1.8</td>\n",
       "      <td>1.3</td>\n",
       "      <td>0</td>\n",
       "      <td>Glyset</td>\n",
       "      <td>Enalapril</td>\n",
       "    </tr>\n",
       "    <tr>\n",
       "      <th>2</th>\n",
       "      <td>A003</td>\n",
       "      <td>Surya Modak</td>\n",
       "      <td>Male</td>\n",
       "      <td>B+</td>\n",
       "      <td>31</td>\n",
       "      <td>44.2</td>\n",
       "      <td>0</td>\n",
       "      <td>99</td>\n",
       "      <td>0</td>\n",
       "      <td>145</td>\n",
       "      <td>1</td>\n",
       "      <td>7</td>\n",
       "      <td>3.4</td>\n",
       "      <td>0.9</td>\n",
       "      <td>0</td>\n",
       "      <td>Precose</td>\n",
       "      <td>Enalapril</td>\n",
       "    </tr>\n",
       "    <tr>\n",
       "      <th>3</th>\n",
       "      <td>A004</td>\n",
       "      <td>Jonatham Snow</td>\n",
       "      <td>Male</td>\n",
       "      <td>O+</td>\n",
       "      <td>24</td>\n",
       "      <td>42.3</td>\n",
       "      <td>68</td>\n",
       "      <td>110</td>\n",
       "      <td>250</td>\n",
       "      <td>135</td>\n",
       "      <td>0</td>\n",
       "      <td>15</td>\n",
       "      <td>4.5</td>\n",
       "      <td>0.4</td>\n",
       "      <td>0</td>\n",
       "      <td>Precose</td>\n",
       "      <td>Ramipril</td>\n",
       "    </tr>\n",
       "    <tr>\n",
       "      <th>4</th>\n",
       "      <td>A005</td>\n",
       "      <td>Motilal Khan</td>\n",
       "      <td>Male</td>\n",
       "      <td>A-</td>\n",
       "      <td>21</td>\n",
       "      <td>40.7</td>\n",
       "      <td>62</td>\n",
       "      <td>155</td>\n",
       "      <td>480</td>\n",
       "      <td>139</td>\n",
       "      <td>0</td>\n",
       "      <td>25</td>\n",
       "      <td>6.7</td>\n",
       "      <td>1.5</td>\n",
       "      <td>1</td>\n",
       "      <td>Precose</td>\n",
       "      <td>Captopril</td>\n",
       "    </tr>\n",
       "  </tbody>\n",
       "</table>\n",
       "</div>"
      ],
      "text/plain": [
       "  Serial_ID      Patient_Name     Sex Blood_group  Age   BMI  Blood_Pressure  \\\n",
       "0      A001  Vidusha Tripathi  Female         AB+   47  33.6              62   \n",
       "1      A002           Ram Das    Male          A+   23  38.2              82   \n",
       "2      A003       Surya Modak    Male          B+   31  44.2               0   \n",
       "3      A004     Jonatham Snow    Male          O+   24  42.3              68   \n",
       "4      A005      Motilal Khan    Male          A-   21  40.7              62   \n",
       "\n",
       "   Blood_Sugar  Insulin  Glucose  Diabetes_Outcome  Blood_urea_nitrogen_level  \\\n",
       "0           80        0      138                 1                         20   \n",
       "1           52      125       84                 0                         20   \n",
       "2           99        0      145                 1                          7   \n",
       "3          110      250      135                 0                         15   \n",
       "4          155      480      139                 0                         25   \n",
       "\n",
       "   Uric_acid  Creatinine_level  Kidney_test_outcome Drug_Diabetes Drug_kidney  \n",
       "0        5.5               1.2                    0       Precose   Enalapril  \n",
       "1        1.8               1.3                    0        Glyset   Enalapril  \n",
       "2        3.4               0.9                    0       Precose   Enalapril  \n",
       "3        4.5               0.4                    0       Precose    Ramipril  \n",
       "4        6.7               1.5                    1       Precose   Captopril  "
      ]
     },
     "execution_count": 92,
     "metadata": {},
     "output_type": "execute_result"
    }
   ],
   "source": [
    "#decision tree for diabetes medicine\n",
    "import pandas as pd\n",
    "import matplotlib.pyplot as plt\n",
    "import pylab as pl\n",
    "import numpy as np\n",
    "%matplotlib inline\n",
    "df = pd.read_csv(\"E:/proj_folder/proj_datasheet.csv\")\n",
    "df.head()"
   ]
  },
  {
   "cell_type": "code",
   "execution_count": 93,
   "metadata": {},
   "outputs": [
    {
     "name": "stdout",
     "output_type": "stream",
     "text": [
      "['Actoplus' 'Glyset' 'Glyset' 'Actoplus' 'Glyset' 'Glyset' 'Precose'\n",
      " 'Precose' 'Precose' 'Glyset']\n",
      "12    Actoplus\n",
      "39      Glyset\n",
      "9       Glyset\n",
      "47    Actoplus\n",
      "31      Glyset\n",
      "28      Glyset\n",
      "13     Precose\n",
      "48      Glyset\n",
      "45     Precose\n",
      "6       Glyset\n",
      "Name: Drug_Diabetes, dtype: object\n",
      "DecisionTrees's Accuracy:  0.9\n"
     ]
    }
   ],
   "source": [
    "import numpy as np \n",
    "import pandas as pd\n",
    "from sklearn.tree import DecisionTreeClassifier\n",
    "\n",
    "X =df[['Age', 'Sex','Diabetes_Outcome']].values\n",
    "d={'Male':1,'Female':0}\n",
    "df['Sex']=df['Sex'].map(d)\n",
    "X =df[['Age', 'Sex', 'Glucose','Diabetes_Outcome']].values\n",
    "\n",
    "\n",
    "y = df[\"Drug_Diabetes\"]\n",
    "\n",
    "from sklearn.model_selection import train_test_split\n",
    "X_trainset, X_testset, y_trainset, y_testset = train_test_split(X, y, test_size=0.2, random_state=3)\n",
    "drugTree = DecisionTreeClassifier(criterion=\"entropy\", max_depth =4)\n",
    "drugTree # it shows the default parameters\n",
    "drugTree.fit(X_trainset,y_trainset)\n",
    "predTree = drugTree.predict(X_testset)\n",
    "print (predTree [0:50])\n",
    "print (y_testset [0:50])\n",
    "\n",
    "from sklearn import metrics\n",
    "import matplotlib.pyplot as plt\n",
    "print(\"DecisionTrees's Accuracy: \", metrics.accuracy_score(y_testset, predTree))\n"
   ]
  },
  {
   "cell_type": "code",
   "execution_count": 95,
   "metadata": {},
   "outputs": [
    {
     "data": {
      "text/plain": [
       "DecisionTreeClassifier(class_weight=None, criterion='gini', max_depth=None,\n",
       "            max_features=None, max_leaf_nodes=None,\n",
       "            min_impurity_decrease=0.0, min_impurity_split=None,\n",
       "            min_samples_leaf=1, min_samples_split=2,\n",
       "            min_weight_fraction_leaf=0.0, presort=False, random_state=None,\n",
       "            splitter='best')"
      ]
     },
     "execution_count": 95,
     "metadata": {},
     "output_type": "execute_result"
    }
   ],
   "source": [
    "from sklearn.externals.six import StringIO\n",
    "import pydotplus\n",
    "import matplotlib.image as mpimg\n",
    "from sklearn import tree\n",
    "%matplotlib inline \n",
    "\n",
    "X =df[['Age', 'Glucose','Sex', 'Diabetes_Outcome']]\n",
    "X[0:50]\n",
    "feature=list(X)\n",
    "feature\n",
    "from sklearn.tree import DecisionTreeClassifier\n",
    "y=df['Drug_Diabetes']\n",
    "X=df[feature]\n",
    "clf=tree.DecisionTreeClassifier()\n",
    "clf.fit(X,y)\n"
   ]
  },
  {
   "cell_type": "code",
   "execution_count": 96,
   "metadata": {},
   "outputs": [],
   "source": [
    "from sklearn.externals.six import StringIO\n",
    "from IPython.display import Image\n",
    "from sklearn import tree\n",
    "import pydotplus\n",
    "from sklearn.tree import DecisionTreeClassifier\n",
    "clf=tree.DecisionTreeClassifier()\n",
    "clf.fit(X,y)\n",
    "dot_data=StringIO()\n",
    "tree.export_graphviz(clf,out_file=dot_data,feature_names=feature)\n",
    "graph=pydotplus.graph_from_dot_data(dot_data.getvalue())\n",
    "graph.write_png('Drug_Diabetes.png')\n",
    "Image=(graph.create_png())"
   ]
  },
  {
   "cell_type": "code",
   "execution_count": 106,
   "metadata": {},
   "outputs": [
    {
     "data": {
      "text/html": [
       "<div>\n",
       "<style scoped>\n",
       "    .dataframe tbody tr th:only-of-type {\n",
       "        vertical-align: middle;\n",
       "    }\n",
       "\n",
       "    .dataframe tbody tr th {\n",
       "        vertical-align: top;\n",
       "    }\n",
       "\n",
       "    .dataframe thead th {\n",
       "        text-align: right;\n",
       "    }\n",
       "</style>\n",
       "<table border=\"1\" class=\"dataframe\">\n",
       "  <thead>\n",
       "    <tr style=\"text-align: right;\">\n",
       "      <th></th>\n",
       "      <th>Serial_ID</th>\n",
       "      <th>Patient_Name</th>\n",
       "      <th>Sex</th>\n",
       "      <th>Blood_group</th>\n",
       "      <th>Age</th>\n",
       "      <th>BMI</th>\n",
       "      <th>Blood_Pressure</th>\n",
       "      <th>Blood_Sugar</th>\n",
       "      <th>Insulin</th>\n",
       "      <th>Glucose</th>\n",
       "      <th>Diabetes_Outcome</th>\n",
       "      <th>Blood_urea_nitrogen_level</th>\n",
       "      <th>Uric_acid</th>\n",
       "      <th>Creatinine_level</th>\n",
       "      <th>Kidney_test_outcome</th>\n",
       "      <th>Drug_Diabetes</th>\n",
       "      <th>Drug_kidney</th>\n",
       "    </tr>\n",
       "  </thead>\n",
       "  <tbody>\n",
       "    <tr>\n",
       "      <th>0</th>\n",
       "      <td>A001</td>\n",
       "      <td>Vidusha Tripathi</td>\n",
       "      <td>Female</td>\n",
       "      <td>AB+</td>\n",
       "      <td>47</td>\n",
       "      <td>33.6</td>\n",
       "      <td>62</td>\n",
       "      <td>80</td>\n",
       "      <td>0</td>\n",
       "      <td>138</td>\n",
       "      <td>1</td>\n",
       "      <td>20</td>\n",
       "      <td>5.5</td>\n",
       "      <td>1.2</td>\n",
       "      <td>0</td>\n",
       "      <td>Precose</td>\n",
       "      <td>Enalapril</td>\n",
       "    </tr>\n",
       "    <tr>\n",
       "      <th>1</th>\n",
       "      <td>A002</td>\n",
       "      <td>Ram Das</td>\n",
       "      <td>Male</td>\n",
       "      <td>A+</td>\n",
       "      <td>23</td>\n",
       "      <td>38.2</td>\n",
       "      <td>82</td>\n",
       "      <td>52</td>\n",
       "      <td>125</td>\n",
       "      <td>84</td>\n",
       "      <td>0</td>\n",
       "      <td>20</td>\n",
       "      <td>1.8</td>\n",
       "      <td>1.3</td>\n",
       "      <td>0</td>\n",
       "      <td>Glyset</td>\n",
       "      <td>Enalapril</td>\n",
       "    </tr>\n",
       "    <tr>\n",
       "      <th>2</th>\n",
       "      <td>A003</td>\n",
       "      <td>Surya Modak</td>\n",
       "      <td>Male</td>\n",
       "      <td>B+</td>\n",
       "      <td>31</td>\n",
       "      <td>44.2</td>\n",
       "      <td>0</td>\n",
       "      <td>99</td>\n",
       "      <td>0</td>\n",
       "      <td>145</td>\n",
       "      <td>1</td>\n",
       "      <td>7</td>\n",
       "      <td>3.4</td>\n",
       "      <td>0.9</td>\n",
       "      <td>0</td>\n",
       "      <td>Precose</td>\n",
       "      <td>Enalapril</td>\n",
       "    </tr>\n",
       "    <tr>\n",
       "      <th>3</th>\n",
       "      <td>A004</td>\n",
       "      <td>Jonatham Snow</td>\n",
       "      <td>Male</td>\n",
       "      <td>O+</td>\n",
       "      <td>24</td>\n",
       "      <td>42.3</td>\n",
       "      <td>68</td>\n",
       "      <td>110</td>\n",
       "      <td>250</td>\n",
       "      <td>135</td>\n",
       "      <td>0</td>\n",
       "      <td>15</td>\n",
       "      <td>4.5</td>\n",
       "      <td>0.4</td>\n",
       "      <td>0</td>\n",
       "      <td>Precose</td>\n",
       "      <td>Ramipril</td>\n",
       "    </tr>\n",
       "    <tr>\n",
       "      <th>4</th>\n",
       "      <td>A005</td>\n",
       "      <td>Motilal Khan</td>\n",
       "      <td>Male</td>\n",
       "      <td>A-</td>\n",
       "      <td>21</td>\n",
       "      <td>40.7</td>\n",
       "      <td>62</td>\n",
       "      <td>155</td>\n",
       "      <td>480</td>\n",
       "      <td>139</td>\n",
       "      <td>0</td>\n",
       "      <td>25</td>\n",
       "      <td>6.7</td>\n",
       "      <td>1.5</td>\n",
       "      <td>1</td>\n",
       "      <td>Precose</td>\n",
       "      <td>Captopril</td>\n",
       "    </tr>\n",
       "  </tbody>\n",
       "</table>\n",
       "</div>"
      ],
      "text/plain": [
       "  Serial_ID      Patient_Name     Sex Blood_group  Age   BMI  Blood_Pressure  \\\n",
       "0      A001  Vidusha Tripathi  Female         AB+   47  33.6              62   \n",
       "1      A002           Ram Das    Male          A+   23  38.2              82   \n",
       "2      A003       Surya Modak    Male          B+   31  44.2               0   \n",
       "3      A004     Jonatham Snow    Male          O+   24  42.3              68   \n",
       "4      A005      Motilal Khan    Male          A-   21  40.7              62   \n",
       "\n",
       "   Blood_Sugar  Insulin  Glucose  Diabetes_Outcome  Blood_urea_nitrogen_level  \\\n",
       "0           80        0      138                 1                         20   \n",
       "1           52      125       84                 0                         20   \n",
       "2           99        0      145                 1                          7   \n",
       "3          110      250      135                 0                         15   \n",
       "4          155      480      139                 0                         25   \n",
       "\n",
       "   Uric_acid  Creatinine_level  Kidney_test_outcome Drug_Diabetes Drug_kidney  \n",
       "0        5.5               1.2                    0       Precose   Enalapril  \n",
       "1        1.8               1.3                    0        Glyset   Enalapril  \n",
       "2        3.4               0.9                    0       Precose   Enalapril  \n",
       "3        4.5               0.4                    0       Precose    Ramipril  \n",
       "4        6.7               1.5                    1       Precose   Captopril  "
      ]
     },
     "execution_count": 106,
     "metadata": {},
     "output_type": "execute_result"
    }
   ],
   "source": [
    "#decision tree for kidney medicine\n",
    "\n",
    "import pandas as pd\n",
    "import matplotlib.pyplot as plt\n",
    "import pylab as pl\n",
    "import numpy as np\n",
    "%matplotlib inline\n",
    "df = pd.read_csv(\"E:/proj_folder/proj_datasheet.csv\")\n",
    "df.head()"
   ]
  },
  {
   "cell_type": "code",
   "execution_count": 107,
   "metadata": {},
   "outputs": [
    {
     "data": {
      "text/plain": [
       "DecisionTreeClassifier(class_weight=None, criterion='entropy', max_depth=4,\n",
       "            max_features=None, max_leaf_nodes=None,\n",
       "            min_impurity_decrease=0.0, min_impurity_split=None,\n",
       "            min_samples_leaf=1, min_samples_split=2,\n",
       "            min_weight_fraction_leaf=0.0, presort=False, random_state=None,\n",
       "            splitter='best')"
      ]
     },
     "execution_count": 107,
     "metadata": {},
     "output_type": "execute_result"
    }
   ],
   "source": [
    "import numpy as np \n",
    "import pandas as pd\n",
    "from sklearn.tree import DecisionTreeClassifier\n",
    "\n",
    "X =df[['Age', 'Sex','Diabetes_Outcome']].values\n",
    "d={'Male':1,'Female':0}\n",
    "df['Sex']=df['Sex'].map(d)\n",
    "\n",
    "X =df[['Age', 'Sex', 'Glucose','Diabetes_Outcome']].values\n",
    "\n",
    "\n",
    "y = df[\"Drug_kidney\"]\n",
    "\n",
    "from sklearn.model_selection import train_test_split\n",
    "\n",
    "X_trainset, X_testset, y_trainset, y_testset = train_test_split(X, y, test_size=0.2, random_state=3)\n",
    "\n",
    "drugTree = DecisionTreeClassifier(criterion=\"entropy\", max_depth =4)\n",
    "drugTree # it shows the default parameters"
   ]
  },
  {
   "cell_type": "code",
   "execution_count": 108,
   "metadata": {},
   "outputs": [
    {
     "data": {
      "text/plain": [
       "DecisionTreeClassifier(class_weight=None, criterion='entropy', max_depth=4,\n",
       "            max_features=None, max_leaf_nodes=None,\n",
       "            min_impurity_decrease=0.0, min_impurity_split=None,\n",
       "            min_samples_leaf=1, min_samples_split=2,\n",
       "            min_weight_fraction_leaf=0.0, presort=False, random_state=None,\n",
       "            splitter='best')"
      ]
     },
     "execution_count": 108,
     "metadata": {},
     "output_type": "execute_result"
    }
   ],
   "source": [
    "drugTree.fit(X_trainset,y_trainset)"
   ]
  },
  {
   "cell_type": "code",
   "execution_count": 109,
   "metadata": {},
   "outputs": [
    {
     "name": "stdout",
     "output_type": "stream",
     "text": [
      "['Enalapril' 'Enalapril' 'Enalapril' 'Enalapril' 'Enalapril' 'Enalapril'\n",
      " 'Captopril' 'Enalapril' 'Enalapril' 'Enalapril']\n",
      "12     Ramipril\n",
      "39    Captopril\n",
      "9     Enalapril\n",
      "47    Captopril\n",
      "31    Enalapril\n",
      "28    Enalapril\n",
      "13    Enalapril\n",
      "48    Captopril\n",
      "45    Captopril\n",
      "6     Captopril\n",
      "Name: Drug_kidney, dtype: object\n"
     ]
    }
   ],
   "source": [
    "predTree = drugTree.predict(X_testset)\n",
    "print (predTree [0:50])\n",
    "print (y_testset [0:50])"
   ]
  },
  {
   "cell_type": "code",
   "execution_count": 110,
   "metadata": {},
   "outputs": [
    {
     "name": "stdout",
     "output_type": "stream",
     "text": [
      "DecisionTrees's Accuracy:  0.3\n"
     ]
    }
   ],
   "source": [
    "from sklearn import metrics\n",
    "import matplotlib.pyplot as plt\n",
    "print(\"DecisionTrees's Accuracy: \", metrics.accuracy_score(y_testset, predTree))"
   ]
  },
  {
   "cell_type": "code",
   "execution_count": 111,
   "metadata": {},
   "outputs": [
    {
     "data": {
      "text/plain": [
       "DecisionTreeClassifier(class_weight=None, criterion='gini', max_depth=None,\n",
       "            max_features=None, max_leaf_nodes=None,\n",
       "            min_impurity_decrease=0.0, min_impurity_split=None,\n",
       "            min_samples_leaf=1, min_samples_split=2,\n",
       "            min_weight_fraction_leaf=0.0, presort=False, random_state=None,\n",
       "            splitter='best')"
      ]
     },
     "execution_count": 111,
     "metadata": {},
     "output_type": "execute_result"
    }
   ],
   "source": [
    "from sklearn.externals.six import StringIO\n",
    "import pydotplus\n",
    "import matplotlib.image as mpimg\n",
    "from sklearn import tree\n",
    "%matplotlib inline \n",
    "\n",
    "X =df[['Age', 'Glucose','Sex', 'Diabetes_Outcome']]\n",
    "X[0:50]\n",
    "feature=list(X)\n",
    "feature\n",
    "from sklearn.tree import DecisionTreeClassifier\n",
    "y=df['Drug_kidney']\n",
    "X=df[feature]\n",
    "clf=tree.DecisionTreeClassifier()\n",
    "clf.fit(X,y)"
   ]
  },
  {
   "cell_type": "code",
   "execution_count": 112,
   "metadata": {},
   "outputs": [],
   "source": [
    "from sklearn.externals.six import StringIO\n",
    "from IPython.display import Image\n",
    "from sklearn import tree\n",
    "import pydotplus\n",
    "from sklearn.tree import DecisionTreeClassifier\n",
    "clf=tree.DecisionTreeClassifier()\n",
    "clf.fit(X,y)\n",
    "dot_data=StringIO()\n",
    "tree.export_graphviz(clf,out_file=dot_data,feature_names=feature)\n",
    "graph=pydotplus.graph_from_dot_data(dot_data.getvalue())\n",
    "graph.write_png('Drug_Kidney.png')\n",
    "Image=(graph.create_png())"
   ]
  },
  {
   "cell_type": "markdown",
   "metadata": {},
   "source": [
    "## K-Means"
   ]
  },
  {
   "cell_type": "markdown",
   "metadata": {},
   "source": [
    "FOR DIABETES"
   ]
  },
  {
   "cell_type": "code",
   "execution_count": 80,
   "metadata": {},
   "outputs": [
    {
     "data": {
      "image/png": "[encoded data removed]",
      "text/plain": [
       "<Figure size 432x288 with 1 Axes>"
      ]
     },
     "metadata": {
      "needs_background": "light"
     },
     "output_type": "display_data"
    },
    {
     "data": {
      "image/png": "[encoded data removed]",
      "text/plain": [
       "<Figure size 432x288 with 1 Axes>"
      ]
     },
     "metadata": {
      "needs_background": "light"
     },
     "output_type": "display_data"
    }
   ],
   "source": [
    "# K-Means Clustering for diabetes\n",
    "\n",
    "# Importing the libraries\n",
    "import numpy as np\n",
    "import matplotlib.pyplot as plt\n",
    "import pandas as pd\n",
    "\n",
    "%matplotlib inline\n",
    "\n",
    "# Importing the dataset\n",
    "dataset = pd.read_csv('E:/proj_folder/proj_datasheet.csv')\n",
    "X = dataset.iloc[:, [7, 9]].values\n",
    "y = dataset.iloc[:, 10].values\n",
    "\n",
    "# Splitting the dataset into the Training set and Test set\n",
    "\"\"\"from sklearn.cross_validation import train_test_split\n",
    "X_train, X_test, y_train, y_test = train_test_split(X, y, test_size = 0.2, random_state = 0)\"\"\"\n",
    "\n",
    "# Feature Scaling\n",
    "\"\"\"from sklearn.preprocessing import StandardScaler\n",
    "sc_X = StandardScaler()\n",
    "X_train = sc_X.fit_transform(X_train)\n",
    "X_test = sc_X.transform(X_test)\n",
    "sc_y = StandardScaler()\n",
    "y_train = sc_y.fit_transform(y_train)\"\"\"\n",
    "\n",
    "# Using the elbow method to find the optimal number of clusters\n",
    "from sklearn.cluster import KMeans\n",
    "wcss = []\n",
    "for i in range(1, 11):\n",
    "    kmeans = KMeans(n_clusters = i, init = 'k-means++', random_state = 42)\n",
    "    kmeans.fit(X)\n",
    "    wcss.append(kmeans.inertia_)\n",
    "plt.plot(range(1, 11), wcss)\n",
    "plt.title('The Elbow Method')\n",
    "plt.xlabel('Attributes')\n",
    "plt.ylabel('Diabetes Outcome')\n",
    "plt.show()\n",
    "# Fitting K-Means to the dataset\n",
    "kmeans = KMeans(n_clusters = 5, init = 'k-means++', random_state = 42)\n",
    "y_kmeans = kmeans.fit_predict(X)\n",
    "\n",
    "# Visualising the clusters\n",
    "plt.scatter(X[y_kmeans == 0, 0], X[y_kmeans == 0, 1], s = 100, c = 'red', label = 'Cluster 1')\n",
    "plt.scatter(X[y_kmeans == 1, 0], X[y_kmeans == 1, 1], s = 100, c = 'blue', label = 'Cluster 2')\n",
    "plt.scatter(X[y_kmeans == 2, 0], X[y_kmeans == 2, 1], s = 100, c = 'green', label = 'Cluster 3')\n",
    "plt.scatter(X[y_kmeans == 3, 0], X[y_kmeans == 3, 1], s = 100, c = 'cyan', label = 'Cluster 4')\n",
    "plt.scatter(X[y_kmeans == 4, 0], X[y_kmeans == 4, 1], s = 100, c = 'magenta', label = 'Cluster 5')\n",
    "plt.scatter(kmeans.cluster_centers_[:, 0], kmeans.cluster_centers_[:, 1], s = 300, c = 'yellow', label = 'Centroids')\n",
    "plt.title('Clusters of Diabetes dataset')\n",
    "plt.xlabel('Attributes')\n",
    "plt.ylabel('Diabetes Outcome')\n",
    "plt.legend()\n",
    "plt.show()\n"
   ]
  },
  {
   "cell_type": "markdown",
   "metadata": {},
   "source": [
    "FOR KIDNEY"
   ]
  },
  {
   "cell_type": "code",
   "execution_count": 81,
   "metadata": {},
   "outputs": [
    {
     "data": {
      "image/png": "[encoded data removed]",
      "text/plain": [
       "<Figure size 432x288 with 1 Axes>"
      ]
     },
     "metadata": {
      "needs_background": "light"
     },
     "output_type": "display_data"
    },
    {
     "data": {
      "image/png": "[encoded data removed]",
      "text/plain": [
       "<Figure size 432x288 with 1 Axes>"
      ]
     },
     "metadata": {
      "needs_background": "light"
     },
     "output_type": "display_data"
    }
   ],
   "source": [
    "# K-Means Clustering for Kidney disease\n",
    "\n",
    "# Importing the libraries\n",
    "import numpy as np\n",
    "import matplotlib.pyplot as plt\n",
    "import pandas as pd\n",
    "\n",
    "%matplotlib inline\n",
    "\n",
    "# Importing the dataset\n",
    "dataset = pd.read_csv('E:/proj_folder/proj_datasheet.csv')\n",
    "X = dataset.iloc[:, [11, 13]].values\n",
    "y = dataset.iloc[:, 14].values\n",
    "\n",
    "# Splitting the dataset into the Training set and Test set\n",
    "\"\"\"from sklearn.cross_validation import train_test_split\n",
    "X_train, X_test, y_train, y_test = train_test_split(X, y, test_size = 0.2, random_state = 0)\"\"\"\n",
    "\n",
    "# Feature Scaling\n",
    "\"\"\"from sklearn.preprocessing import StandardScaler\n",
    "sc_X = StandardScaler()\n",
    "X_train = sc_X.fit_transform(X_train)\n",
    "X_test = sc_X.transform(X_test)\n",
    "sc_y = StandardScaler()\n",
    "y_train = sc_y.fit_transform(y_train)\"\"\"\n",
    "\n",
    "# Using the elbow method to find the optimal number of clusters\n",
    "from sklearn.cluster import KMeans\n",
    "wcss = []\n",
    "for i in range(1, 11):\n",
    "    kmeans = KMeans(n_clusters = i, init = 'k-means++', random_state = 42)\n",
    "    kmeans.fit(X)\n",
    "    wcss.append(kmeans.inertia_)\n",
    "plt.plot(range(1, 11), wcss)\n",
    "plt.title('The Elbow Method')\n",
    "plt.xlabel('Attributes')\n",
    "plt.ylabel('Diabetes Outcome')\n",
    "plt.show()\n",
    "# Fitting K-Means to the dataset\n",
    "kmeans = KMeans(n_clusters = 5, init = 'k-means++', random_state = 42)\n",
    "y_kmeans = kmeans.fit_predict(X)\n",
    "\n",
    "# Visualising the clusters\n",
    "plt.scatter(X[y_kmeans == 0, 0], X[y_kmeans == 0, 1], s = 100, c = 'red', label = 'Cluster 1')\n",
    "plt.scatter(X[y_kmeans == 1, 0], X[y_kmeans == 1, 1], s = 100, c = 'blue', label = 'Cluster 2')\n",
    "plt.scatter(X[y_kmeans == 2, 0], X[y_kmeans == 2, 1], s = 100, c = 'green', label = 'Cluster 3')\n",
    "plt.scatter(X[y_kmeans == 3, 0], X[y_kmeans == 3, 1], s = 100, c = 'cyan', label = 'Cluster 4')\n",
    "plt.scatter(X[y_kmeans == 4, 0], X[y_kmeans == 4, 1], s = 100, c = 'magenta', label = 'Cluster 5')\n",
    "plt.scatter(kmeans.cluster_centers_[:, 0], kmeans.cluster_centers_[:, 1], s = 300, c = 'yellow', label = 'Centroids')\n",
    "plt.title('Clusters of Kidney dataset ')\n",
    "plt.xlabel('Attributes')\n",
    "plt.ylabel('Kidney Outcome')\n",
    "plt.legend()\n",
    "plt.show()\n"
   ]
  },
  {
   "cell_type": "code",
   "execution_count": null,
   "metadata": {},
   "outputs": [],
   "source": []
  }
 ],
 "metadata": {
  "kernelspec": {
   "display_name": "Python 3",
   "language": "python",
   "name": "python3"
  },
  "language_info": {
   "codemirror_mode": {
    "name": "ipython",
    "version": 3
   },
   "file_extension": ".py",
   "mimetype": "text/x-python",
   "name": "python",
   "nbconvert_exporter": "python",
   "pygments_lexer": "ipython3",
   "version": "3.7.3"
  }
 },
 "nbformat": 4,
 "nbformat_minor": 2
}
